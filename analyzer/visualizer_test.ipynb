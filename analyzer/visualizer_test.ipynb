{
 "cells": [
  {
   "cell_type": "code",
   "execution_count": 1,
   "metadata": {},
   "outputs": [],
   "source": [
    "import sys\n",
    "from tqdm import tqdm\n",
    "import numpy as np\n",
    "import pandas as pd\n",
    "import matplotlib.pyplot as plt\n",
    "import torch\n",
    "\n",
    "from visualizer import Visualizer\n",
    "\n",
    "plt.rcParams['font.family'] = 'sans-serif'\n",
    "plt.rcParams[\"font.size\"] = 16"
   ]
  },
  {
   "cell_type": "code",
   "execution_count": 2,
   "metadata": {},
   "outputs": [
    {
     "data": {
      "text/plain": [
       "device(type='cuda', index=0)"
      ]
     },
     "execution_count": 2,
     "metadata": {},
     "output_type": "execute_result"
    }
   ],
   "source": [
    "filein=\"/workspace/HDD2/pharm/shionogi/voriconazole/raw/E0263 1103 - 2022-10-07 13.17.51.ndpi\"\n",
    "DEVICE = torch.device('cuda:0' if torch.cuda.is_available() else 'cpu')\n",
    "DEVICE"
   ]
  },
  {
   "cell_type": "code",
   "execution_count": 3,
   "metadata": {},
   "outputs": [
    {
     "name": "stdout",
     "output_type": "stream",
     "text": [
      "Mon Dec 16 20:48:09 2024       \n",
      "+---------------------------------------------------------------------------------------+\n",
      "| NVIDIA-SMI 535.183.01             Driver Version: 535.183.01   CUDA Version: 12.2     |\n",
      "|-----------------------------------------+----------------------+----------------------+\n",
      "| GPU  Name                 Persistence-M | Bus-Id        Disp.A | Volatile Uncorr. ECC |\n",
      "| Fan  Temp   Perf          Pwr:Usage/Cap |         Memory-Usage | GPU-Util  Compute M. |\n",
      "|                                         |                      |               MIG M. |\n",
      "|=========================================+======================+======================|\n",
      "|   0  NVIDIA RTX A6000               Off | 00000000:01:00.0 Off |                  Off |\n",
      "| 30%   37C    P8              24W / 300W |     26MiB / 49140MiB |      0%      Default |\n",
      "|                                         |                      |                  N/A |\n",
      "+-----------------------------------------+----------------------+----------------------+\n",
      "                                                                                         \n",
      "+---------------------------------------------------------------------------------------+\n",
      "| Processes:                                                                            |\n",
      "|  GPU   GI   CI        PID   Type   Process name                            GPU Memory |\n",
      "|        ID   ID                                                             Usage      |\n",
      "|=======================================================================================|\n",
      "+---------------------------------------------------------------------------------------+\n"
     ]
    }
   ],
   "source": [
    "!nvidia-smi"
   ]
  },
  {
   "cell_type": "code",
   "execution_count": 4,
   "metadata": {},
   "outputs": [],
   "source": [
    "dat=Visualizer(DEVICE=DEVICE)"
   ]
  },
  {
   "cell_type": "code",
   "execution_count": 5,
   "metadata": {},
   "outputs": [
    {
     "name": "stderr",
     "output_type": "stream",
     "text": [
      "/workspace/pathology/src/SelfSupervisedLearningPathology/analyzer/model.py:38: FutureWarning: You are using `torch.load` with `weights_only=False` (the current default value), which uses the default pickle module implicitly. It is possible to construct malicious pickle data which will execute arbitrary code during unpickling (See https://github.com/pytorch/pytorch/blob/main/SECURITY.md#untrusted-models for more details). In a future release, the default value for `weights_only` will be flipped to `True`. This limits the functions that could be executed during unpickling. Arbitrary objects will no longer be allowed to be loaded via this mode unless they are explicitly allowlisted by the user via `torch.serialization.add_safe_globals`. We recommend you start setting `weights_only=True` for any use case where you don't have full control of the loaded file. Please open an issue on GitHub for any issues related to this experimental feature.\n",
      "  model.load_state_dict(torch.load(dir_model))\n"
     ]
    }
   ],
   "source": [
    "dat.load_model(\n",
    "    dir_featurize_model=\"/workspace/pathology/models/fold/bt0/model_ssl.pt\",\n",
    "    dir_classification_models=\"/workspace/pathology/models/analyzer/bt_layer45_pu.pickle\",\n",
    "    style=\"dict\"\n",
    ")"
   ]
  },
  {
   "cell_type": "code",
   "execution_count": 6,
   "metadata": {},
   "outputs": [
    {
     "name": "stdout",
     "output_type": "stream",
     "text": [
      "Featurizing WSI\n",
      "Finding Classsifying\n"
     ]
    },
    {
     "name": "stderr",
     "output_type": "stream",
     "text": [
      "100%|██████████| 6/6 [00:26<00:00,  4.49s/it]\n",
      "100%|██████████| 6/6 [00:00<00:00, 64.58it/s]\n"
     ]
    }
   ],
   "source": [
    "dat.analyze_image(\n",
    "    filein, \n",
    "    batch_size=256, \n",
    "    patch_size=448, \n",
    "    model_patch_size=224,\n",
    "    slice_min_patch=100,\n",
    "    save_memory=False,\n",
    ")"
   ]
  },
  {
   "cell_type": "code",
   "execution_count": 7,
   "metadata": {},
   "outputs": [
    {
     "data": {
      "text/plain": [
       "<analyzer.Analyzer at 0x7a4d637a3110>"
      ]
     },
     "execution_count": 7,
     "metadata": {},
     "output_type": "execute_result"
    }
   ],
   "source": [
    "dat.Analyzer"
   ]
  },
  {
   "cell_type": "code",
   "execution_count": 8,
   "metadata": {},
   "outputs": [
    {
     "data": {
      "text/plain": [
       "{'Hepatocellular Degeneration': array([7.28583347e-37, 1.62982240e-34, 2.07793158e-33, ...,\n",
       "        8.99299245e-37, 6.34824932e-47, 7.99257852e-09]),\n",
       " 'Hepatocellular Injury, and Death': array([0.13334006, 0.19999142, 0.06546611, ..., 0.1992023 , 0.13333245,\n",
       "        0.13016663]),\n",
       " 'Billary Change': array([2.98598268e-14, 9.75348081e-15, 4.13126273e-14, ...,\n",
       "        9.10159416e-16, 1.56989372e-14, 1.20851521e-15]),\n",
       " 'Hepatocellular Responses': array([1.35009946e-14, 2.66687140e-01, 2.24512839e-01, ...,\n",
       "        9.24822353e-21, 6.03166921e-30, 1.30067621e-26]),\n",
       " 'Inflammation': array([3.24144529e-01, 6.63802001e-01, 5.48124304e-01, ...,\n",
       "        3.60814343e-07, 7.06571939e-03, 3.68816364e-01]),\n",
       " 'Proliferative Lesions': array([4.19456154e-01, 9.31072321e-01, 6.86996979e-01, ...,\n",
       "        1.12186638e-14, 8.35660447e-10, 3.11635651e-01])}"
      ]
     },
     "execution_count": 8,
     "metadata": {},
     "output_type": "execute_result"
    }
   ],
   "source": [
    "dat.Analyzer.result_patch"
   ]
  },
  {
   "cell_type": "code",
   "execution_count": 9,
   "metadata": {},
   "outputs": [],
   "source": [
    "dat.export_probabilities(\n",
    "    savedir=\"/workspace/pathology/result/shionogi\"\n",
    ")"
   ]
  },
  {
   "cell_type": "code",
   "execution_count": null,
   "metadata": {},
   "outputs": [],
   "source": []
  }
 ],
 "metadata": {
  "kernelspec": {
   "display_name": "coder-gpu",
   "language": "python",
   "name": "coder-gpu"
  },
  "language_info": {
   "codemirror_mode": {
    "name": "ipython",
    "version": 3
   },
   "file_extension": ".py",
   "mimetype": "text/x-python",
   "name": "python",
   "nbconvert_exporter": "python",
   "pygments_lexer": "ipython3",
   "version": "3.12.3"
  }
 },
 "nbformat": 4,
 "nbformat_minor": 2
}
